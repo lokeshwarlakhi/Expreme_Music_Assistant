{
 "cells": [
  {
   "cell_type": "code",
   "execution_count": 1,
   "metadata": {},
   "outputs": [],
   "source": [
    "import spotipy\n",
    "import json\n",
    "import webbrowser\n",
    "import creds\n",
    "\n"
   ]
  },
  {
   "cell_type": "code",
   "execution_count": 2,
   "metadata": {},
   "outputs": [],
   "source": [
    "username = 'lokidoki'\n",
    "client_id = creds.client_id\n",
    "client_secret = creds.client_secrect\n",
    "redirect_uri = 'http://google.com/'\n"
   ]
  },
  {
   "cell_type": "code",
   "execution_count": 3,
   "metadata": {},
   "outputs": [
    {
     "name": "stderr",
     "output_type": "stream",
     "text": [
      "C:\\Users\\LUCKYLOKEY\\AppData\\Local\\Temp\\ipykernel_6004\\109928429.py:2: DeprecationWarning: You're using 'as_dict = True'.get_access_token will return the token string directly in future versions. Please adjust your code accordingly, or use get_cached_token instead.\n",
      "  token_dict = oauth_obj.get_access_token()\n"
     ]
    }
   ],
   "source": [
    "oauth_obj = spotipy.SpotifyOAuth(client_id,client_secret,redirect_uri)\n",
    "token_dict = oauth_obj.get_access_token()\n",
    "token = token_dict['access_token']\n",
    "spotify_obj = spotipy.Spotify(auth=token) "
   ]
  },
  {
   "cell_type": "code",
   "execution_count": 4,
   "metadata": {},
   "outputs": [
    {
     "data": {
      "text/plain": [
       "'{\"display_name\": \"lokidoki\", \"external_urls\": {\"spotify\": \"https://open.spotify.com/user/ql0zx5m1c6kyjla2omti7h2uf\"}, \"followers\": {\"href\": null, \"total\": 13}, \"href\": \"https://api.spotify.com/v1/users/ql0zx5m1c6kyjla2omti7h2uf\", \"id\": \"ql0zx5m1c6kyjla2omti7h2uf\", \"images\": [{\"height\": null, \"url\": \"https://i.scdn.co/image/ab6775700000ee851e9a2983719360ae65d42eed\", \"width\": null}], \"type\": \"user\", \"uri\": \"spotify:user:ql0zx5m1c6kyjla2omti7h2uf\"}'"
      ]
     },
     "execution_count": 4,
     "metadata": {},
     "output_type": "execute_result"
    }
   ],
   "source": [
    "user = spotify_obj.current_user()\n",
    "json.dumps(user)"
   ]
  },
  {
   "cell_type": "code",
   "execution_count": 24,
   "metadata": {},
   "outputs": [
    {
     "name": "stdout",
     "output_type": "stream",
     "text": [
      "spotify:playlist:3EWWYPlsW50YqJexPLNi1g\n",
      "spotify:playlist:37i9dQZF1DX94qaYRnkufr\n",
      "spotify:playlist:5cw9axmj2yApXwaE3o3pL2\n",
      "spotify:playlist:39H2AznHPZrqI9uCGxOcXh\n"
     ]
    }
   ],
   "source": [
    "# lang = \n",
    "song_data = 'martin Garix'\n",
    "search_res = spotify_obj.search(song_data,4,0,'playlist')\n",
    "track_dict = search_res['playlists']\n",
    "for i in range(4):\n",
    "    try:\n",
    "        print(track_dict['items'][i]['uri'])\n",
    "    except:\n",
    "        pass\n",
    "# sample_playlist = track_dict['items'][0]['uri']\n",
    "# plst_id = sample_playlist.split(':')[2]\n",
    "# plst = spotify_obj.user_playlist_tracks('spotify',plst_id)['items']\n",
    "# print(plst)\n",
    "# webbrowser.open(sample_playlist)"
   ]
  },
  {
   "cell_type": "code",
   "execution_count": 19,
   "metadata": {},
   "outputs": [
    {
     "name": "stdout",
     "output_type": "stream",
     "text": [
      "39\n",
      "hello 1\n",
      "4u9Y4Z9i9VaAbBK7rW1Rha\n"
     ]
    },
    {
     "ename": "KeyError",
     "evalue": "'external_urls'",
     "output_type": "error",
     "traceback": [
      "\u001b[1;31m---------------------------------------------------------------------------\u001b[0m",
      "\u001b[1;31mKeyError\u001b[0m                                  Traceback (most recent call last)",
      "\u001b[1;32m~\\AppData\\Local\\Temp\\ipykernel_6004\\589511021.py\u001b[0m in \u001b[0;36m<module>\u001b[1;34m\u001b[0m\n\u001b[0;32m     13\u001b[0m         \u001b[0mprint\u001b[0m\u001b[1;33m(\u001b[0m\u001b[1;34m\"hello\"\u001b[0m\u001b[1;33m,\u001b[0m\u001b[0mcnt\u001b[0m\u001b[1;33m)\u001b[0m\u001b[1;33m\u001b[0m\u001b[1;33m\u001b[0m\u001b[0m\n\u001b[0;32m     14\u001b[0m         \u001b[0mprint\u001b[0m\u001b[1;33m(\u001b[0m\u001b[0mtrack\u001b[0m\u001b[1;33m[\u001b[0m\u001b[1;34m'track'\u001b[0m\u001b[1;33m]\u001b[0m\u001b[1;33m[\u001b[0m\u001b[1;34m'id'\u001b[0m\u001b[1;33m]\u001b[0m\u001b[1;33m)\u001b[0m\u001b[1;33m\u001b[0m\u001b[1;33m\u001b[0m\u001b[0m\n\u001b[1;32m---> 15\u001b[1;33m         \u001b[0mprint\u001b[0m\u001b[1;33m(\u001b[0m\u001b[0mtrack\u001b[0m\u001b[1;33m[\u001b[0m\u001b[1;34m'external_urls'\u001b[0m\u001b[1;33m]\u001b[0m\u001b[1;33m[\u001b[0m\u001b[1;34m'uri'\u001b[0m\u001b[1;33m]\u001b[0m\u001b[1;33m)\u001b[0m\u001b[1;33m\u001b[0m\u001b[1;33m\u001b[0m\u001b[0m\n\u001b[0m\u001b[0;32m     16\u001b[0m         \u001b[1;32mtry\u001b[0m\u001b[1;33m:\u001b[0m\u001b[1;33m\u001b[0m\u001b[1;33m\u001b[0m\u001b[0m\n\u001b[0;32m     17\u001b[0m             \u001b[0mtrack_name\u001b[0m\u001b[1;33m.\u001b[0m\u001b[0mappend\u001b[0m\u001b[1;33m(\u001b[0m\u001b[0mtrack\u001b[0m\u001b[1;33m[\u001b[0m\u001b[1;34m'track'\u001b[0m\u001b[1;33m]\u001b[0m\u001b[1;33m[\u001b[0m\u001b[1;34m'name'\u001b[0m\u001b[1;33m]\u001b[0m\u001b[1;33m)\u001b[0m\u001b[1;33m\u001b[0m\u001b[1;33m\u001b[0m\u001b[0m\n",
      "\u001b[1;31mKeyError\u001b[0m: 'external_urls'"
     ]
    }
   ],
   "source": [
    "track_id=list()\n",
    "track_name =list()\n",
    "\n",
    "play_list_no = 4\n",
    "\n",
    "\n",
    "\n",
    "\n",
    "for i in range(4):\n",
    "    cnt =0\n",
    "    sample_playlist = track_dict['items'][i]['uri']\n",
    "    plst_id = sample_playlist.split(':')[2]\n",
    "    plst = spotify_obj.user_playlist_tracks('spotify',plst_id)['items']\n",
    "    for track in plst:\n",
    "        cnt+=1\n",
    "\n",
    "        print(\"hello\",cnt)\n",
    "        print(track['track']['name'])\n",
    "        try:\n",
    "            track_name.append(track['track']['name'])\n",
    "            track_id.append(track['track']['id'])\n",
    "        except Exception:\n",
    "            pass\n",
    "    for i in range(10):\n",
    "        print(\"track id:\", track_id[i], \"track name:\" ,track_name[i])\n",
    "\n",
    "print(len(track_id))\n",
    "\n",
    "\n",
    "# sample_playlist = track_dict['items'][0]['uri']\n",
    "# plst_id = sample_playlist.split(':')[2]\n",
    "# plst = spotify_obj.user_playlist_tracks('spotify',plst_id)['items']\n",
    "# print(\n",
    "# plst[0]['track'],\n",
    "# plst[0]['track']['id'])\n",
    "\n"
   ]
  },
  {
   "cell_type": "code",
   "execution_count": 7,
   "metadata": {},
   "outputs": [
    {
     "name": "stdout",
     "output_type": "stream",
     "text": [
      "Castle on the Hill\n"
     ]
    }
   ],
   "source": [
    "import time\n",
    "print(track_name[5])\n",
    "i = 0\n",
    "while(1):\n",
    "    webbrowser.open(f'spotify:track:{track_id[i]}')\n",
    "    time.sleep((spotify_obj.audio_features(track_id[5])[0]['duration_ms'])/1000)\n",
    "    if(i==5):\n",
    "        break\n",
    "\n",
    "    i+=1\n",
    "\n",
    "webbrowser.open(f'spotify:track:{track_id[0]}')\n",
    "print(track_name[0])\n",
    "# spotify_obj.add_to_queue(track_id[3])"
   ]
  },
  {
   "cell_type": "code",
   "execution_count": null,
   "metadata": {},
   "outputs": [
    {
     "data": {
      "text/plain": [
       "('Burning Love', 'Burning Love', '1DWRaY7hsOAxYtevhXrWNv', 170293)"
      ]
     },
     "execution_count": 13,
     "metadata": {},
     "output_type": "execute_result"
    }
   ],
   "source": [
    "track_name[5],track_name[5],track_id[5],spotify_obj.audio_features(track_id[5])[0]['duration_ms']"
   ]
  }
 ],
 "metadata": {
  "interpreter": {
   "hash": "6b0699bebad29b30504a2833c7726e48d29dd9a44dd79a442358d04273c0c275"
  },
  "kernelspec": {
   "display_name": "Python 3.9.10 64-bit",
   "language": "python",
   "name": "python3"
  },
  "language_info": {
   "codemirror_mode": {
    "name": "ipython",
    "version": 3
   },
   "file_extension": ".py",
   "mimetype": "text/x-python",
   "name": "python",
   "nbconvert_exporter": "python",
   "pygments_lexer": "ipython3",
   "version": "3.9.10"
  },
  "orig_nbformat": 4
 },
 "nbformat": 4,
 "nbformat_minor": 2
}
